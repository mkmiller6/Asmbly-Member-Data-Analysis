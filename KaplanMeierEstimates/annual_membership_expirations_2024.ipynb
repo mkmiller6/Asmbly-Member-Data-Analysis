{
 "cells": [
  {
   "cell_type": "code",
   "execution_count": null,
   "metadata": {},
   "outputs": [],
   "source": [
    "import datetime\n",
    "import pandas as pd\n",
    "import numpy as np\n",
    "import matplotlib.pyplot as plt\n",
    "import seaborn as sns\n",
    "\n",
    "%matplotlib inline\n",
    "%config InlineBackend.figure_format='retina'"
   ]
  },
  {
   "cell_type": "code",
   "execution_count": null,
   "metadata": {},
   "outputs": [],
   "source": [
    "df = pd.read_csv(\"annual_membership_expirations_2024.csv\")"
   ]
  },
  {
   "cell_type": "code",
   "execution_count": null,
   "metadata": {},
   "outputs": [],
   "source": [
    "df.drop(\"Unnamed: 7\", axis=1, inplace=True)"
   ]
  },
  {
   "cell_type": "code",
   "execution_count": null,
   "metadata": {},
   "outputs": [],
   "source": [
    "df.head()"
   ]
  },
  {
   "cell_type": "code",
   "execution_count": null,
   "metadata": {},
   "outputs": [],
   "source": [
    "counts_by_month = df.groupby([pd.to_datetime(df[\"Membership Expiration Date\"]).dt.month])[[\"Account ID\"]].count()\n",
    "\n",
    "indexes = {\n",
    "    1: \"Jan\",\n",
    "    2: \"Feb\",\n",
    "    3: \"Mar\",\n",
    "    4: \"Apr\",\n",
    "    5: \"May\",\n",
    "    6: \"Jun\",\n",
    "    7: \"Jul\",\n",
    "    8: \"Aug\",\n",
    "    9: \"Sep\",\n",
    "    10: \"Oct\",\n",
    "    11: \"Nov\",\n",
    "    12: \"Dec\"\n",
    "    }\n",
    "\n",
    "counts_by_month.rename(columns={\"Account ID\": \"Count\"}, index=indexes, inplace=True)"
   ]
  },
  {
   "cell_type": "code",
   "execution_count": null,
   "metadata": {},
   "outputs": [],
   "source": [
    "\n",
    "sns.barplot(x=counts_by_month.index, y=counts_by_month[\"Count\"])\n",
    "\n",
    "plt.xlabel(\"Month\")\n",
    "plt.title(\"Annual Membership Expirations by Month in 2024\")\n",
    "\n",
    "plt.savefig(\"annual_membership_expirations_2024.png\", dpi=300)\n"
   ]
  },
  {
   "cell_type": "code",
   "execution_count": null,
   "metadata": {},
   "outputs": [],
   "source": [
    "import requests, base64\n",
    "\n",
    "from config import N_APIkey, N_APIuser\n",
    "\n",
    "# Neon Account Info\n",
    "N_AUTH = f\"{N_APIuser}:{N_APIkey}\"\n",
    "N_BASE_URL = \"https://api.neoncrm.com/v2/\"\n",
    "N_SIGNATURE = base64.b64encode(bytearray(N_AUTH.encode())).decode()\n",
    "N_HEADERS = {\n",
    "    \"Content-Type\": \"application/json\",\n",
    "    \"Authorization\": f\"Basic {N_SIGNATURE}\",\n",
    "}\n",
    "\n",
    "df = pd.read_csv(\"annual_memberships_april_may_2023.csv\")\n",
    "\n",
    "df.drop(\"Unnamed: 7\", axis=1, inplace=True)"
   ]
  },
  {
   "cell_type": "code",
   "execution_count": null,
   "metadata": {},
   "outputs": [],
   "source": [
    "df.insert(loc=len(df.columns), column=\"previous_membership\", value=False)\n",
    "df.insert(loc=len(df.columns), column=\"previous_membership_type\", value=np.nan)\n",
    "\n",
    "for column in [\"Membership Start Date\", \"Membership Enrollment Date\", \"Membership Expiration Date\"]:\n",
    "    df[column] = pd.to_datetime(df[column])\n",
    "\n",
    "df.head()"
   ]
  },
  {
   "cell_type": "code",
   "execution_count": null,
   "metadata": {},
   "outputs": [],
   "source": [
    "session = requests.Session()\n",
    "session.headers.update(N_HEADERS)\n",
    "\n",
    "def get_account_membership_previous_to_date(neonId: int, membership_start_date: datetime.datetime) -> bool:\n",
    "    base_url = \"https://api.neoncrm.com/v2\"\n",
    "    resource_path = f\"/accounts/{neonId}/memberships\"\n",
    "\n",
    "    url = base_url + resource_path\n",
    "\n",
    "    acct_memberships = session.get(url)\n",
    "\n",
    "    if acct_memberships.status_code != 200:\n",
    "        print(acct_memberships.status_code, neonId)\n",
    "    \n",
    "    acct_memberships = acct_memberships.json()[\"memberships\"]\n",
    "\n",
    "    prev_mem = False\n",
    "    prev_mem_type = np.nan\n",
    "\n",
    "    if len(acct_memberships) < 2:\n",
    "        return {\"previous_membership\": prev_mem, \"mem_type\": prev_mem_type}\n",
    "    \n",
    "    for membership in acct_memberships:\n",
    "        start_date = datetime.datetime.fromisoformat(membership[\"termStartDate\"])\n",
    "        end_date = datetime.datetime.fromisoformat(membership[\"termEndDate\"])\n",
    "        if  end_date == membership_start_date - datetime.timedelta(days=1):\n",
    "            prev_mem_type = \"annual\" if membership[\"termUnit\"] == \"YEAR\" else \"monthly\"\n",
    "            prev_mem = True\n",
    "            break\n",
    "\n",
    "    return {\"previous_membership\": prev_mem, \"mem_type\": prev_mem_type}"
   ]
  },
  {
   "cell_type": "code",
   "execution_count": null,
   "metadata": {},
   "outputs": [],
   "source": [
    "for account in df.itertuples():\n",
    "\n",
    "    prev_mem_values = get_account_membership_previous_to_date(account[df.columns.get_loc(\"Account ID\")+1], account[df.columns.get_loc(\"Membership Start Date\")+1])\n",
    "\n",
    "    df.loc[account.Index, \"previous_membership\"] = prev_mem_values[\"previous_membership\"]\n",
    "    df.loc[account.Index, \"previous_membership_type\"] = prev_mem_values[\"mem_type\"]"
   ]
  },
  {
   "cell_type": "code",
   "execution_count": null,
   "metadata": {},
   "outputs": [],
   "source": [
    "df[\"previous_membership_type\"].fillna(\"n/a\", inplace=True)\n",
    "\n",
    "df.head()"
   ]
  },
  {
   "cell_type": "code",
   "execution_count": null,
   "metadata": {},
   "outputs": [],
   "source": [
    "counts = df.groupby([\"previous_membership\", \"previous_membership_type\"], as_index=False)[[\"Account ID\"]].count()\n",
    "counts.rename(columns={\"Account ID\": \"count\"}, inplace=True)"
   ]
  },
  {
   "cell_type": "code",
   "execution_count": null,
   "metadata": {},
   "outputs": [],
   "source": [
    "counts.to_csv(\"april_may_counts.csv\")"
   ]
  },
  {
   "cell_type": "code",
   "execution_count": null,
   "metadata": {},
   "outputs": [],
   "source": [
    "df.insert(len(df.columns), \"auto_renew\", False)"
   ]
  },
  {
   "cell_type": "code",
   "execution_count": null,
   "metadata": {},
   "outputs": [],
   "source": []
  },
  {
   "cell_type": "code",
   "execution_count": null,
   "metadata": {},
   "outputs": [],
   "source": [
    "for row in df.itertuples():\n",
    "\n",
    "    \n",
    "\n",
    "    df.loc"
   ]
  }
 ],
 "metadata": {
  "kernelspec": {
   "display_name": "AsmblyMakerspace",
   "language": "python",
   "name": "python3"
  },
  "language_info": {
   "codemirror_mode": {
    "name": "ipython",
    "version": 3
   },
   "file_extension": ".py",
   "mimetype": "text/x-python",
   "name": "python",
   "nbconvert_exporter": "python",
   "pygments_lexer": "ipython3",
   "version": "3.11.5"
  }
 },
 "nbformat": 4,
 "nbformat_minor": 2
}
