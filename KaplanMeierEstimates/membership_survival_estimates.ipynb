{
 "cells": [
  {
   "cell_type": "code",
   "execution_count": null,
   "metadata": {},
   "outputs": [],
   "source": [
    "import datetime\n",
    "import pandas as pd\n",
    "import numpy as np\n",
    "import matplotlib.pyplot as plt\n",
    "import seaborn as sns\n",
    "from sksurv.nonparametric import kaplan_meier_estimator\n",
    "from lifelines import KaplanMeierFitter, WeibullFitter\n",
    "from lifelines.fitters import ParametricUnivariateFitter\n",
    "import autograd.numpy as anp\n",
    "import scipy.stats as stats\n",
    "import scipy as sp\n",
    "\n",
    "\n",
    "%matplotlib inline\n",
    "%config InlineBackend.figure_format='retina'"
   ]
  },
  {
   "cell_type": "code",
   "execution_count": null,
   "metadata": {},
   "outputs": [],
   "source": [
    "def estimate_survival_curve(df: pd.DataFrame):\n",
    "    df[\"Membership Expiration Date\"] = pd.to_datetime(df[\"Membership Expiration Date\"])\n",
    "    df.sort_values(by=[\"Membership Expiration Date\"], ascending=True, inplace=True)\n",
    "\n",
    "    durations = df.groupby(df[\"Account ID\"])[[\"Account ID\"]].count()\n",
    "    durations[\"Account ID\"].astype(int)\n",
    "    durations.rename(columns={\"Account ID\": \"Duration\"}, inplace=True)\n",
    "\n",
    "    latest_expiration = df.groupby(df[\"Account ID\"])[[\"Membership Expiration Date\"]].apply(lambda x: x.tail(1))\n",
    "    latest_expiration.rename(columns={\"Membership Expiration Date\": \"Latest Membership Expiration\"}, inplace=True)\n",
    "\n",
    "    survival_df = pd.merge(left=durations, right=latest_expiration, on=\"Account ID\")\n",
    "\n",
    "    survival_df.insert(len(survival_df.columns), \"Expired\", False)\n",
    "\n",
    "    survival_df.loc[pd.to_datetime(survival_df[\"Latest Membership Expiration\"]) < pd.Timestamp.today(), \"Expired\"] = True\n",
    "\n",
    "    return survival_df"
   ]
  },
  {
   "cell_type": "code",
   "execution_count": null,
   "metadata": {},
   "outputs": [],
   "source": [
    "df1 = pd.read_csv(\"annual_membership_counts_all_time.csv\")\n",
    "df2 = pd.read_csv(\"monthly_membership_counts_all_time.csv\")\n",
    "\n",
    "df1 = estimate_survival_curve(df1)\n",
    "df2 = estimate_survival_curve(df2)\n"
   ]
  },
  {
   "cell_type": "code",
   "execution_count": null,
   "metadata": {},
   "outputs": [],
   "source": [
    "x1, y1, conf_int_1 = kaplan_meier_estimator(df1[\"Expired\"], df1[\"Duration\"], conf_type=\"log-log\")\n",
    "x2, y2, conf_int_2 = kaplan_meier_estimator(df2[\"Expired\"], df2[\"Duration\"], conf_type=\"log-log\")\n",
    "\n",
    "fig, axs = plt.subplots(nrows=1, ncols=2, figsize=(12, 6.75), layout=\"constrained\")\n",
    "\n",
    "axs[0].step(x1, y1, where=\"post\")\n",
    "axs[0].fill_between(x1, conf_int_1[0], conf_int_1[1], alpha=0.25, step=\"post\")\n",
    "axs[0].set_ylim(0, 1)\n",
    "axs[0].set_xlabel(\"Membership Duration (Years)\")\n",
    "axs[0].set_title(\"Annual Memberships\")\n",
    "fig.supylabel(\"Probability of Continued Membership\")\n",
    "\n",
    "\n",
    "axs[1].step(x2, y2, where=\"post\")\n",
    "axs[1].fill_between(x2, conf_int_2[0], conf_int_2[1], alpha=0.25, step=\"post\")\n",
    "axs[1].set_ylim(0, 1)\n",
    "axs[1].set_xlabel(\"Membership Duration (Months)\")\n",
    "axs[1].set_title(\"Monthly Memberships\")\n",
    "\n",
    "\n",
    "plt.show()\n"
   ]
  },
  {
   "cell_type": "code",
   "execution_count": null,
   "metadata": {},
   "outputs": [],
   "source": []
  },
  {
   "cell_type": "markdown",
   "metadata": {},
   "source": [
    "The survival function is defined as $S(x) = 1 - F(x) = e^{-H(x)}$ where $F(x)$ is the cumulative distribution fucntion and $H(x)$ is the cumulative hazard function.\n",
    "\n",
    "Thus, the cumulative hazard function can be written as $H(x) = -\\ln(1-F(x))$\n",
    "\n",
    "The cumulative distribution function for the Lomax distribution is $F(x)=1-(1+\\frac{x}{\\lambda})^{-\\kappa}$, thus the cumulative hazard function for the Lomax distribution\n",
    "is $H(x)= \\kappa \\ln(1+\\frac{x}{\\lambda})$\n",
    "\n",
    "We will use this cumulative hazard function to create a custom parametric fitter using the Lifelines package. We will fit the inverse of the constant $\\lambda$ to avoid negative values in the diagonal of the covariance matrix. Later, we'll simply invert the fitted constant to find the true $\\lambda$."
   ]
  },
  {
   "cell_type": "code",
   "execution_count": null,
   "metadata": {},
   "outputs": [],
   "source": [
    "class LomaxFitter(ParametricUnivariateFitter):\n",
    "\n",
    "    _fitted_parameter_names = [\"kappa_\", \"inverse_lambda\"]\n",
    "\n",
    "    def _cumulative_hazard(self, params, times):\n",
    "        kappa, inverse_lambda = params\n",
    "        return kappa * anp.log(1 + times*inverse_lambda)"
   ]
  },
  {
   "cell_type": "code",
   "execution_count": null,
   "metadata": {},
   "outputs": [],
   "source": [
    "kmf = KaplanMeierFitter()\n",
    "wbf = WeibullFitter()\n",
    "lmf = LomaxFitter()"
   ]
  },
  {
   "cell_type": "code",
   "execution_count": null,
   "metadata": {},
   "outputs": [],
   "source": [
    "ax = plt.subplot(111)\n",
    "\n",
    "kmf.fit(df1[\"Duration\"]*12, event_observed=df1[\"Expired\"], label=\"KM Estimate (Annual)\")\n",
    "lmf.fit(df1[\"Duration\"]*12, event_observed=df1[\"Expired\"], label=\"Lomax Fit (Annual)\")\n",
    "kmf.plot_survival_function(ax=ax)\n",
    "lmf.plot_survival_function(ax=ax)\n",
    "\n",
    "kmf.fit(durations=df2[\"Duration\"], event_observed=df2[\"Expired\"], label=\"KM Estimate (Monthly)\")\n",
    "lmf.fit(durations=df2[\"Duration\"], event_observed=df2[\"Expired\"], label=\"Lomax Fit (Monthly)\")\n",
    "kmf.plot_survival_function(ax=ax)\n",
    "lmf.plot_survival_function(ax=ax)\n",
    "\n",
    "ax.set_xlabel(\"Membership Duration (Months)\")\n",
    "ax.set_ylabel(\"Probability of Continued Membership\")\n",
    "\n",
    "plt.savefig(\"membership_kaplan_meier_estimates_combined\", dpi=300)"
   ]
  },
  {
   "cell_type": "markdown",
   "metadata": {},
   "source": [
    "The mean of the Lomax distribution is defined as $E[X]=\\frac{\\lambda}{\\kappa-1}\\;\\text{for}\\; \\kappa>1,\\; \\text{else undefined}$, which in this case represents the expected duration of membership. Customer lifetime value is then simply the expected duration of membership multiplied by the average revenue per customer per unit of duration, in this case average revenue per month per subscriber.\n",
    "\n",
    "The median of the Lomax distribution is defined as $\\lambda(2^{1/\\kappa}-1)$, which represents the duration at which there is a 50% probability that a member will still be subscribed. Stated another way, it is the duration at which we can expect 50% of new members to have churned."
   ]
  },
  {
   "cell_type": "code",
   "execution_count": null,
   "metadata": {},
   "outputs": [],
   "source": [
    "lambda_ = 1/lmf.inverse_lambda\n",
    "kappa = lmf.kappa_\n",
    "\n",
    "lomax_mean = np.divide(lambda_, (kappa - 1))\n",
    "\n",
    "print(\"lambda:\", lambda_, \"kappa:\", kappa)\n",
    "print(\"Lomax Median Survival for Monthly Memberships:\", np.round(lmf.median_survival_time_, 2), \"Months\")\n",
    "print(\"Lomax Mean Survival for Monthly Memberships:\", np.round(lomax_mean, 2), \"Months\")\n",
    "print(\"Kaplan-Meier Median Survival for Monthly Memberships:\", kmf.median_survival_time_, \"Months\")"
   ]
  },
  {
   "cell_type": "code",
   "execution_count": null,
   "metadata": {},
   "outputs": [],
   "source": [
    "lmf.fit(df1[\"Duration\"]*12, event_observed=df1[\"Expired\"])\n",
    "kmf.fit(df1[\"Duration\"]*12, event_observed=df1[\"Expired\"])\n",
    "\n",
    "lambda_ = 1/lmf.inverse_lambda\n",
    "kappa = lmf.kappa_\n",
    "\n",
    "print(\"lambda:\", lambda_, \"kappa:\", kappa)\n",
    "print(\"Lomax Median Survival for Annual Memberships:\", np.round(lmf.median_survival_time_, 2), \"Months\")\n",
    "print(\"Lomax Mean Survival for Annual Memberships:\", np.round((lambda_ / (kappa - 1)), 2), \"Months\")\n",
    "print(\"Kaplan-Meier Median Survival for Annual Memberships:\", kmf.median_survival_time_, \"Months\")"
   ]
  },
  {
   "cell_type": "markdown",
   "metadata": {},
   "source": [
    "So we see that our final estimates from fitting the Lomax distribution are:\n",
    "        \n",
    "|          | Monthly Membership | Annual Membership  |\n",
    "|     ----  | :----:      | :----: |\n",
    "| Median Duration (Months)    | 7.66    | 45.61   |\n",
    "| Mean Duration (Months)      | 21.87    | 68.59  |"
   ]
  },
  {
   "cell_type": "code",
   "execution_count": null,
   "metadata": {},
   "outputs": [],
   "source": [
    "censored_data = df2.loc[~df2[\"Expired\"], \"Duration\"]\n",
    "uncensored_data = df2.loc[df2[\"Expired\"] == True, \"Duration\"]"
   ]
  },
  {
   "cell_type": "code",
   "execution_count": null,
   "metadata": {},
   "outputs": [],
   "source": [
    "def log_likelihood_lomax(args):\n",
    "    shape, scale = args\n",
    "    val = stats.lomax.logpdf(uncensored_data, shape, loc=0, scale=scale).sum() + stats.lomax.logsf(censored_data, shape, loc=0, scale=scale).sum()\n",
    "    return -val"
   ]
  },
  {
   "cell_type": "code",
   "execution_count": null,
   "metadata": {},
   "outputs": [],
   "source": [
    "res_lomax = sp.optimize.minimize(log_likelihood_lomax, [1, 1], bounds=((0.001, 1000000), (0.001, 1000000)))\n",
    "\n",
    "print(\"lomax shape\", res_lomax.x[0], \", scale=\", res_lomax.x[1])\n",
    "print(\"lomax mean\", stats.lomax.mean(res_lomax.x[0], scale=res_lomax.x[1]))\n",
    "print(\"lomax median\", stats.lomax.median(res_lomax.x[0], scale=res_lomax.x[1]))"
   ]
  },
  {
   "cell_type": "code",
   "execution_count": null,
   "metadata": {},
   "outputs": [],
   "source": []
  }
 ],
 "metadata": {
  "kernelspec": {
   "display_name": "AsmblyMakerspace",
   "language": "python",
   "name": "python3"
  },
  "language_info": {
   "codemirror_mode": {
    "name": "ipython",
    "version": 3
   },
   "file_extension": ".py",
   "mimetype": "text/x-python",
   "name": "python",
   "nbconvert_exporter": "python",
   "pygments_lexer": "ipython3",
   "version": "3.11.5"
  }
 },
 "nbformat": 4,
 "nbformat_minor": 2
}
