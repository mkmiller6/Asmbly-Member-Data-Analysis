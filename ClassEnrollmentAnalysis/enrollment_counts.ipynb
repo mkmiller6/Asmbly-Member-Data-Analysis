{
 "cells": [
  {
   "cell_type": "code",
   "execution_count": null,
   "metadata": {},
   "outputs": [],
   "source": [
    "import datetime\n",
    "import pandas as pd\n",
    "import numpy as np\n",
    "import matplotlib.pyplot as plt\n",
    "import seaborn as sns"
   ]
  },
  {
   "cell_type": "code",
   "execution_count": null,
   "metadata": {},
   "outputs": [],
   "source": [
    "df = pd.read_csv('asmbly_enrollment_counts_2023.csv')\n",
    "\n",
    "df.drop(columns=[\"Company Name\"], inplace=True)\n",
    "\n",
    "df.head()"
   ]
  },
  {
   "cell_type": "code",
   "execution_count": null,
   "metadata": {},
   "outputs": [],
   "source": [
    "df[\"Membership Start Date\"] = pd.to_datetime(df[\"Membership Start Date\"])\n",
    "df[\"Membership Expiration Date\"] = pd.to_datetime(df[\"Membership Expiration Date\"])\n"
   ]
  },
  {
   "cell_type": "code",
   "execution_count": null,
   "metadata": {},
   "outputs": [],
   "source": [
    "# case where member had monthly memberships all year\n",
    "full_year_monthlies = df.where((df[\"2023 Membership Enrollment Count\"] >= 12) & (df[\"Membership Cost\"] < 200))[[\"Account ID\"]].dropna()\n",
    "\n",
    "# case where member had one yearly memberships spanning the whole year\n",
    "full_year_yearlies = df.where((df[\"Membership Cost\"] > 200) & (df[\"Membership Start Date\"] >= \"12/01/2022\") & (df[\"Membership Start Date\"] <= \"01/31/2023\"))[[\"Account ID\"]].dropna()\n",
    "\n",
    "# cases where member had a mix of yearly and monthly memberships spanning 2023\n",
    "# 1. Member had annual membership that started in 2022 then continued on monthly memberships the rest of the year\n",
    "mixed_annual_monthlies_1 = df.where((df[\"Membership Cost\"] > 200) & (df[\"Membership Expiration Date\"] <= \"11/30/2023\") & (df[\"2023 Membership Enrollment Count\"] > 12 - df[\"Membership Expiration Date\"].dt.month))[[\"Account ID\"]].dropna()\n",
    "\n",
    "# 2. Member had monthly memberships for part of 2023, then started an annual membership for the rest of 2023\n",
    "mixed_annual_monthlies_2 = df.where((df[\"Membership Cost\"] > 200) & (df[\"Membership Expiration Date\"] >= \"01/31/2024\") & (df[\"2023 Membership Enrollment Count\"] > df[\"Membership Start Date\"].dt.month - 1))[[\"Account ID\"]].dropna()\n",
    "\n",
    "# case where member had two yearly memberships spanning 2022 and 2023\n",
    "two_yearlies = df.where((df[\"Membership Cost\"] > 200) & (df[\"2023 Membership Enrollment Count\"] == 1) & (df[\"2022 Membership Enrollment Count\"] >= 1))[[\"Account ID\"]].dropna()\n",
    "\n",
    "final = pd.concat([full_year_monthlies, full_year_yearlies, mixed_annual_monthlies_1, mixed_annual_monthlies_2, two_yearlies])"
   ]
  },
  {
   "cell_type": "code",
   "execution_count": null,
   "metadata": {},
   "outputs": [],
   "source": [
    "total = full_year_monthlies + full_year_yearlies + mixed_annual_monthlies_1 + mixed_annual_monthlies_2 + two_yearlies\n",
    "print(total)"
   ]
  },
  {
   "cell_type": "code",
   "execution_count": null,
   "metadata": {},
   "outputs": [],
   "source": [
    "final.head()"
   ]
  },
  {
   "cell_type": "code",
   "execution_count": null,
   "metadata": {},
   "outputs": [],
   "source": [
    "final.groupby(\"Account ID\").count()"
   ]
  },
  {
   "cell_type": "code",
   "execution_count": null,
   "metadata": {},
   "outputs": [],
   "source": [
    "events_df = pd.read_csv(\"all_events_2023.csv\")"
   ]
  },
  {
   "cell_type": "code",
   "execution_count": null,
   "metadata": {},
   "outputs": [],
   "source": [
    "category_counts = events_df.groupby(\"Event Category Name\")[[\"Event ID\"]].count()\n",
    "category_counts.head()"
   ]
  },
  {
   "cell_type": "code",
   "execution_count": null,
   "metadata": {},
   "outputs": [],
   "source": [
    "category_counts.loc[\"Woodworking\", \"Event ID\"] = category_counts.loc[\"Woodworking\", \"Event ID\"] + category_counts.loc[\"Woodshop Safety\", \"Event ID\"] + category_counts.loc[\"Woodshop Mentor Series\", \"Event ID\"]\n",
    "\n",
    "category_counts.drop([\"Woodshop Safety\", \"Woodshop Mentor Series\"], inplace=True)\n",
    "category_counts.rename({\"_3D Printing\": \"3D Printing\"}, inplace=True)\n",
    "category_counts.rename(columns = {\"Event ID\": \"Event Count\"}, inplace=True)\n",
    "\n",
    "category_counts.head(10)\n",
    "\n"
   ]
  },
  {
   "cell_type": "code",
   "execution_count": null,
   "metadata": {},
   "outputs": [],
   "source": [
    "category_counts.to_csv(\"category_counts.csv\")"
   ]
  },
  {
   "cell_type": "code",
   "execution_count": null,
   "metadata": {},
   "outputs": [],
   "source": [
    "registrations_df = pd.read_csv(\"all_event_registrations_2023.csv\")"
   ]
  },
  {
   "cell_type": "code",
   "execution_count": null,
   "metadata": {},
   "outputs": [],
   "source": [
    "registrations_df.head()\n"
   ]
  },
  {
   "cell_type": "code",
   "execution_count": null,
   "metadata": {},
   "outputs": [],
   "source": [
    "counts = registrations_df.groupby(\"Event Category Name\")[[\"Account ID\"]].count()\n",
    "\n",
    "counts.rename(columns = {\"Account ID\": \"Registration Count\"}, inplace=True)\n",
    "counts.rename({\"_3D Printing\": \"3D Printing\"}, inplace=True)\n",
    "\n",
    "counts.loc[\"Woodworking\", \"Registration Count\"] = counts.loc[\"Woodworking\", \"Registration Count\"] + counts.loc[\"Woodshop Safety\", \"Registration Count\"] + counts.loc[\"Woodshop Mentor Series\", \"Registration Count\"]\n",
    "\n",
    "counts.drop([\"Woodshop Safety\", \"Woodshop Mentor Series\"], inplace=True)\n",
    "\n",
    "counts.sort_values(by=\"Registration Count\", ascending=False).to_csv(\"category_registrations.csv\")"
   ]
  },
  {
   "cell_type": "code",
   "execution_count": null,
   "metadata": {},
   "outputs": [],
   "source": [
    "counts.sum()"
   ]
  },
  {
   "cell_type": "code",
   "execution_count": null,
   "metadata": {},
   "outputs": [],
   "source": []
  }
 ],
 "metadata": {
  "kernelspec": {
   "display_name": "AsmblyMakerspace",
   "language": "python",
   "name": "python3"
  },
  "language_info": {
   "codemirror_mode": {
    "name": "ipython",
    "version": 3
   },
   "file_extension": ".py",
   "mimetype": "text/x-python",
   "name": "python",
   "nbconvert_exporter": "python",
   "pygments_lexer": "ipython3",
   "version": "3.11.5"
  }
 },
 "nbformat": 4,
 "nbformat_minor": 2
}
