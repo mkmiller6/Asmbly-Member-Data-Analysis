{
 "cells": [
  {
   "cell_type": "code",
   "execution_count": null,
   "metadata": {},
   "outputs": [],
   "source": [
    "import datetime\n",
    "import pandas as pd\n",
    "import numpy as np\n",
    "import matplotlib.pyplot as plt\n",
    "import seaborn as sns"
   ]
  },
  {
   "cell_type": "code",
   "execution_count": null,
   "metadata": {},
   "outputs": [],
   "source": [
    "df = pd.read_csv('asmbly_cleaned_member_dataset.csv')\n",
    "df.head()"
   ]
  },
  {
   "cell_type": "code",
   "execution_count": null,
   "metadata": {},
   "outputs": [],
   "source": [
    "df.where(df[\"membership_count\"] > 0).describe()"
   ]
  },
  {
   "cell_type": "code",
   "execution_count": null,
   "metadata": {},
   "outputs": [],
   "source": [
    "ax = df.loc[df[\"membership_count\"] > 0, [\"membership_count\", \"event_attended_count\", \"total_dollars_spent\", \"avg_monthly_booking_minutes\",\"avg_monthly_booking_count\" ,\"age\"]].plot(kind=\"box\", subplots=True, layout=(2, 3), figsize=(12, 10))\n",
    "\n",
    "ax[\"membership_count\"].xaxis.set_ticklabels([\"Membership Count\"])\n",
    "ax[\"event_attended_count\"].xaxis.set_ticklabels([\"Event Attended Count\"])\n",
    "ax[\"total_dollars_spent\"].xaxis.set_ticklabels([\"Total Dollars Spent\"])\n",
    "ax[\"avg_monthly_booking_count\"].xaxis.set_ticklabels([\"Average Monthly Booking Count\"])\n",
    "ax[\"avg_monthly_booking_count\"].set_ylim(-2, 30)\n",
    "ax[\"age\"].xaxis.set_ticklabels([\"Age\"])\n",
    "ax[\"avg_monthly_booking_minutes\"].xaxis.set_ticklabels([\"Average Monthly Booking Minutes\"])\n",
    "ax[\"avg_monthly_booking_minutes\"].set_ylim(-200, 2750)\n",
    "\n",
    "plt.suptitle(\"Members With At Least One Membership\", y=0.95, fontsize=14)\n",
    "plt.savefig(\"members_with_at_least_one_membership.png\", dpi=300)\n",
    "\n",
    "plt.show()\n"
   ]
  },
  {
   "cell_type": "code",
   "execution_count": null,
   "metadata": {},
   "outputs": [],
   "source": [
    "ax = df.loc[df[\"membership_count\"] > 0, \"membership_count\"].plot(kind=\"kde\", title=\"Members With At Least One Membership\")"
   ]
  },
  {
   "cell_type": "code",
   "execution_count": null,
   "metadata": {},
   "outputs": [],
   "source": [
    "df.where(df[\"membership_count\"] > 0).count()"
   ]
  },
  {
   "cell_type": "code",
   "execution_count": null,
   "metadata": {},
   "outputs": [],
   "source": []
  }
 ],
 "metadata": {
  "kernelspec": {
   "display_name": "AsmblyMakerspace",
   "language": "python",
   "name": "python3"
  },
  "language_info": {
   "codemirror_mode": {
    "name": "ipython",
    "version": 3
   },
   "file_extension": ".py",
   "mimetype": "text/x-python",
   "name": "python",
   "nbconvert_exporter": "python",
   "pygments_lexer": "ipython3",
   "version": "3.11.5"
  }
 },
 "nbformat": 4,
 "nbformat_minor": 2
}
