{
 "cells": [
  {
   "cell_type": "code",
   "execution_count": null,
   "metadata": {},
   "outputs": [],
   "source": [
    "import datetime\n",
    "import pandas as pd\n",
    "import numpy as np\n",
    "import seaborn as sns"
   ]
  },
  {
   "cell_type": "code",
   "execution_count": null,
   "metadata": {},
   "outputs": [],
   "source": [
    "df = pd.read_csv(\"all_members_short_form.csv\")\n",
    "\n",
    "df.head()"
   ]
  },
  {
   "cell_type": "code",
   "execution_count": null,
   "metadata": {},
   "outputs": [],
   "source": [
    "drop = [\n",
    "    \"email\",\n",
    "    \"first_name\",\n",
    "    \"last_name\",\n",
    "    \"neon_id\",\n",
    "]\n",
    "\n",
    "df.drop(columns=drop, inplace=True)"
   ]
  },
  {
   "cell_type": "code",
   "execution_count": null,
   "metadata": {},
   "outputs": [],
   "source": [
    "age_med = df[\"age\"].median()\n",
    "gender_mode =df[\"gender\"].mode()[0]\n",
    "referral_mode = df[\"referral_source\"].mode()[0]\n",
    "time_med = df[\"time_from_asmbly\"].median()\n",
    "\n",
    "df[\"age\"].fillna(age_med, inplace=True)\n",
    "df[\"gender\"].fillna(gender_mode, inplace=True)\n",
    "df.loc[df[\"time_from_asmbly\"] > 10800, \"time_from_asmbly\"] = time_med\n",
    "df[\"time_from_asmbly\"].fillna(time_med, inplace=True)\n",
    "df[\"referral_source\"].fillna(referral_mode, inplace=True)\n"
   ]
  },
  {
   "cell_type": "code",
   "execution_count": null,
   "metadata": {},
   "outputs": [],
   "source": [
    "df.isna().any()"
   ]
  },
  {
   "cell_type": "code",
   "execution_count": null,
   "metadata": {},
   "outputs": [],
   "source": [
    "df.to_csv(\"all_members_cleaned_short_form.csv\", index=False)"
   ]
  },
  {
   "cell_type": "code",
   "execution_count": null,
   "metadata": {},
   "outputs": [],
   "source": []
  }
 ],
 "metadata": {
  "kernelspec": {
   "display_name": "AsmblyMakerspace",
   "language": "python",
   "name": "python3"
  },
  "language_info": {
   "codemirror_mode": {
    "name": "ipython",
    "version": 3
   },
   "file_extension": ".py",
   "mimetype": "text/x-python",
   "name": "python",
   "nbconvert_exporter": "python",
   "pygments_lexer": "ipython3",
   "version": "3.11.5"
  }
 },
 "nbformat": 4,
 "nbformat_minor": 2
}
