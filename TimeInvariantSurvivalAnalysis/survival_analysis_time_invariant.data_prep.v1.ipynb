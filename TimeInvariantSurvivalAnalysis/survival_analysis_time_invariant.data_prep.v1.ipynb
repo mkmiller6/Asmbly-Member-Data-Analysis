{
 "cells": [
  {
   "cell_type": "markdown",
   "metadata": {},
   "source": [
    "Compress the time-varying survival data generated from get_asmbly_member_date_long_form.py\n",
    "into short form data suitable for time-invariant survival anlysis.\n",
    "\n",
    "Stratify the resulting data set into the following new dataframes:\n",
    "\n",
    "- duration < 4 months\n",
    "- 4 months <= duration <= 1 year\n",
    "- 1 year < duration <= 3 years\n",
    "- duration > 3 years\n",
    "\n",
    "This module will return data suitable for time-invariant covariate \n",
    "survival regression analysis where each row will correspond to 1 member\n",
    "with the following pieces of data for each member:\n",
    "- email\n",
    "- Neon ID\n",
    "- First name\n",
    "- Last name\n",
    "- DiscourseID (None if none)\n",
    "- Has Discourse ID (boolean)\n",
    "- Has OP ID (boolean)\n",
    "- Distance from Asmbly (np.nan if address unavailable)\n",
    "- Time from Asmbly (np.nan if address unavailable)\n",
    "- Gender (np.nan if unavailable)\n",
    "- Age (np.nan if unavailable)\n",
    "- Referral Source (np.nan if unavailable)\n",
    "- Family Membership (boolean)\n",
    "- Membership Cancelled (boolean)\n",
    "- Membership Type (monthly or annual)\n",
    "- Membership duration\n",
    "- Total classes attended before first membership\n",
    "- Waiver Signed (boolean)\n",
    "- Orientation attended (boolean)\n",
    "- Woodshop Safety attended (boolean)\n",
    "- Metal Shop Safety attended (boolean)\n",
    "- CNC Router class attended (boolean)\n",
    "- Laser class attended (boolean)\n",
    "- Steward (boolean)\n",
    "- Teacher (boolean)"
   ]
  },
  {
   "cell_type": "code",
   "execution_count": null,
   "metadata": {},
   "outputs": [],
   "source": [
    "import datetime\n",
    "import pandas as pd\n",
    "import numpy as np\n",
    "import seaborn as sns"
   ]
  },
  {
   "cell_type": "code",
   "execution_count": null,
   "metadata": {},
   "outputs": [],
   "source": [
    "df = pd.read_csv(\"../TimeVaryingSurvivalAnalysis/all_members_long_form.csv\")"
   ]
  },
  {
   "cell_type": "code",
   "execution_count": null,
   "metadata": {},
   "outputs": [],
   "source": [
    "monthly_counts = df[df.membership_type == \"MONTH\"].groupby(\"neon_id\")[\"email\"].count()\n",
    "\n",
    "annual_counts = df[df.membership_type == \"YEAR\"].groupby(\"neon_id\")[\"email\"].count() * 12\n",
    "\n",
    "total_counts = pd.merge(monthly_counts, annual_counts, how=\"outer\", on=\"neon_id\").groupby(\"neon_id\").sum()\n",
    "\n",
    "total_counts[\"duration\"] = total_counts[\"email_x\"] + total_counts[\"email_y\"]\n",
    "\n",
    "total_counts.drop(columns=[\"email_x\", \"email_y\"], inplace=True)\n",
    "\n",
    "annual_mem = df[df.membership_type == \"YEAR\"][\"neon_id\"].unique()\n",
    "\n",
    "total_counts = total_counts.reset_index().rename(columns={\"index\": \"neon_id\"})\n",
    "\n",
    "annual_mem = pd.DataFrame(annual_mem, columns=[\"neon_id\"])\n",
    "annual_mem[\"annual_membership\"] = True\n",
    "\n",
    "merged = pd.merge(total_counts, annual_mem, how=\"outer\", on=\"neon_id\")\n",
    "merged[\"annual_membership\"].fillna(False, inplace=True)\n",
    "\n",
    "cancelled = df[df.membership_cancelled == True][[\"neon_id\"]]\n",
    "cancelled[\"membership_cancelled\"] = True\n",
    "\n",
    "merged = pd.merge(merged, cancelled, how=\"outer\", on=\"neon_id\")\n",
    "merged[\"membership_cancelled\"].fillna(False, inplace=True)\n"
   ]
  },
  {
   "cell_type": "code",
   "execution_count": null,
   "metadata": {},
   "outputs": [],
   "source": [
    "drop = [\n",
    "    \"membership_type\",\n",
    "    \"start\",\n",
    "    \"stop\",\n",
    "    \"start_date\",\n",
    "    \"end_date\",\n",
    "    \"first_name\",\n",
    "    \"last_name\",\n",
    "    \"discourse_id\",\n",
    "    \"membership_cancelled\",\n",
    "    \"volunteer\",\n",
    "    \"num_classes_attended\",\n",
    "    \"dollars_spent\",\n",
    "    \"woodshop_classes\",\n",
    "    \"metal_shop_classes\",\n",
    "    \"lasers_classes\",\n",
    "    \"textiles_classes\",\n",
    "    \"electronics_classes\",\n",
    "    \"3dp_classes\",\n",
    "    \"distance_from_asmbly\",\n",
    "    \"email\",\n",
    "    \n",
    "]\n",
    "\n",
    "df.drop(columns=drop, inplace=True)"
   ]
  },
  {
   "cell_type": "code",
   "execution_count": null,
   "metadata": {},
   "outputs": [],
   "source": [
    "df.drop_duplicates(inplace=True, ignore_index=True)"
   ]
  },
  {
   "cell_type": "code",
   "execution_count": null,
   "metadata": {},
   "outputs": [],
   "source": [
    "df = pd.merge(df, merged, on=\"neon_id\", how=\"inner\")"
   ]
  },
  {
   "cell_type": "code",
   "execution_count": null,
   "metadata": {},
   "outputs": [],
   "source": [
    "age_med = df[\"age\"].median()\n",
    "gender_mode =df[\"gender\"].mode()[0]\n",
    "referral_mode = df[\"referral_source\"].mode()[0]\n",
    "time_med = df[\"time_from_asmbly\"].median()\n",
    "\n",
    "df[\"age\"].fillna(age_med, inplace=True)\n",
    "df[\"gender\"].fillna(gender_mode, inplace=True)\n",
    "df.loc[df[\"time_from_asmbly\"] > 10800, \"time_from_asmbly\"] = time_med\n",
    "df[\"time_from_asmbly\"].fillna(time_med, inplace=True)\n",
    "df[\"referral_source\"].fillna(referral_mode, inplace=True)\n"
   ]
  },
  {
   "cell_type": "code",
   "execution_count": null,
   "metadata": {},
   "outputs": [],
   "source": [
    "df.isna().any()"
   ]
  },
  {
   "cell_type": "code",
   "execution_count": null,
   "metadata": {},
   "outputs": [],
   "source": [
    "df.to_csv(\"all_members_cleaned_time_invariant.csv\", index=False)"
   ]
  },
  {
   "cell_type": "code",
   "execution_count": null,
   "metadata": {},
   "outputs": [],
   "source": []
  }
 ],
 "metadata": {
  "kernelspec": {
   "display_name": "AsmblyMakerspace",
   "language": "python",
   "name": "python3"
  },
  "language_info": {
   "codemirror_mode": {
    "name": "ipython",
    "version": 3
   },
   "file_extension": ".py",
   "mimetype": "text/x-python",
   "name": "python",
   "nbconvert_exporter": "python",
   "pygments_lexer": "ipython3",
   "version": "3.11.5"
  }
 },
 "nbformat": 4,
 "nbformat_minor": 2
}
